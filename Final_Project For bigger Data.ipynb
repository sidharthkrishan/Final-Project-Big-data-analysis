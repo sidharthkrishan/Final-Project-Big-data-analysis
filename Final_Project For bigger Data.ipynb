{
 "cells": [
  {
   "cell_type": "markdown",
   "metadata": {
    "colab_type": "text",
    "id": "P6-BuxFy83KC"
   },
   "source": [
    "Data is from http://socialnetworks.mpi-sws.mpg.de/data/facebook-links.txt.gz"
   ]
  },
  {
   "cell_type": "code",
   "execution_count": null,
   "metadata": {
    "colab": {},
    "colab_type": "code",
    "id": "YTqTAEmr8zZz"
   },
   "outputs": [],
   "source": [
    "# !wget -q http://socialnetworks.mpi-sws.mpg.de/data/facebook-links.txt.gz\n",
    "# !gunzip  facebook-links.txt.gz\n",
    "# !pip install pymongo\n"
   ]
  },
  {
   "cell_type": "markdown",
   "metadata": {
    "colab_type": "text",
    "id": "cRehFrF7AbP8"
   },
   "source": [
    "Setting up environment "
   ]
  },
  {
   "cell_type": "code",
   "execution_count": 1,
   "metadata": {
    "colab": {
     "base_uri": "https://localhost:8080/",
     "height": 1000
    },
    "colab_type": "code",
    "id": "L__WI2OiAC7i",
    "outputId": "97b5715f-99e2-46b4-f01f-6d6475a0e3fb"
   },
   "outputs": [],
   "source": [
    "# !pip install -q findspark\n",
    "\n",
    "import findspark\n",
    "findspark.init()\n",
    "\n",
    "# from pyspark import SparkContext\n",
    "# sc = SparkContext.getOrCreate()"
   ]
  },
  {
   "cell_type": "markdown",
   "metadata": {},
   "source": [
    "we are configuring heap size or let's say configuring spark to run 500mb data set"
   ]
  },
  {
   "cell_type": "code",
   "execution_count": 2,
   "metadata": {},
   "outputs": [],
   "source": [
    "from pyspark.conf import SparkConf\n",
    "from pyspark import SparkContext\n",
    "\n",
    "conf = SparkConf().setAppName(\"App\")\n",
    "conf = (conf.setMaster('local[*]')\n",
    "        .set('spark.executor.memory', '4G')\n",
    "        .set('spark.driver.memory', '45G')\n",
    "        .set('spark.driver.maxResultSize', '10G'))\n",
    "sc = SparkContext(conf=conf)"
   ]
  },
  {
   "cell_type": "markdown",
   "metadata": {
    "colab_type": "text",
    "id": "RSO-ULfkAVXT"
   },
   "source": [
    "#hide\n",
    "importing all the libraries which are needed"
   ]
  },
  {
   "cell_type": "code",
   "execution_count": 4,
   "metadata": {
    "colab": {},
    "colab_type": "code",
    "id": "cOQtCO3SAQgW"
   },
   "outputs": [],
   "source": [
    "from pyspark.ml.evaluation import RegressionEvaluator\n",
    "from pyspark.ml.recommendation import ALS, ALSModel\n",
    "from pyspark.sql import Row\n",
    "from pyspark.sql.types import *\n",
    "from pyspark.sql.session import SparkSession\n",
    "from pyspark.mllib.evaluation import RegressionMetrics, RankingMetrics\n",
    "from pyspark.ml.evaluation import RegressionEvaluator\n",
    "from pyspark.mllib.recommendation import Rating\n",
    "import pandas\n",
    "import pyspark.sql.dataframe"
   ]
  },
  {
   "cell_type": "markdown",
   "metadata": {
    "colab_type": "text",
    "id": "JNnausK7Amr4"
   },
   "source": [
    "Initialing pyspark and reading the raw data"
   ]
  },
  {
   "cell_type": "code",
   "execution_count": 5,
   "metadata": {
    "colab": {},
    "colab_type": "code",
    "id": "HcDPLNLAATCv",
    "scrolled": true
   },
   "outputs": [],
   "source": [
    "rawData = sc.textFile('./soc-pokec-relationships.txt')"
   ]
  },
  {
   "cell_type": "code",
   "execution_count": 6,
   "metadata": {
    "colab": {},
    "colab_type": "code",
    "id": "NBesNaxjAsVW"
   },
   "outputs": [],
   "source": [
    "\n",
    "def cleanFile(rawFile):\n",
    "  ''' we are changing the data into useful form\n",
    "\n",
    "      ARGS\n",
    "      rawFile:  the data which we need to parse into useful form\n",
    "\n",
    "      RETURNS\n",
    "      tuple of user and friend [user,friend] \n",
    "  '''\n",
    "  user,frnd = rawFile[0].split('\\t')\n",
    "  return [int(user),int(frnd)]"
   ]
  },
  {
   "cell_type": "markdown",
   "metadata": {
    "colab_type": "text",
    "id": "Cwmk9LvPDEeq"
   },
   "source": [
    "Code Below\n",
    "*  calling cleandata on rawData to get rdd in useful form\n",
    "*  Also dispaly sample of the data\n",
    "\n",
    "\n"
   ]
  },
  {
   "cell_type": "code",
   "execution_count": 7,
   "metadata": {
    "colab": {
     "base_uri": "https://localhost:8080/",
     "height": 187
    },
    "colab_type": "code",
    "id": "qXC3UuTMCO8r",
    "outputId": "d686d7ad-87e6-44a5-f895-74aca9a68ef2"
   },
   "outputs": [
    {
     "data": {
      "text/plain": [
       "[[1, 13],\n",
       " [1, 11],\n",
       " [1, 6],\n",
       " [1, 3],\n",
       " [1, 4],\n",
       " [1, 5],\n",
       " [1, 15],\n",
       " [1, 14],\n",
       " [1, 7],\n",
       " [1, 8]]"
      ]
     },
     "execution_count": 7,
     "metadata": {},
     "output_type": "execute_result"
    }
   ],
   "source": [
    "userFriendRDD  = rawData.map(lambda x: x.split(',')).map(cleanFile)\n",
    "del rawData\n",
    "userFriendRDD.take(10)"
   ]
  },
  {
   "cell_type": "markdown",
   "metadata": {
    "colab_type": "text",
    "id": "dpyHnO4fRsVn"
   },
   "source": [
    "making new RDD by swaping columns as the the original RDD has neighbor nodes (Friends) which are not in the main node field(user)"
   ]
  },
  {
   "cell_type": "code",
   "execution_count": 8,
   "metadata": {
    "colab": {},
    "colab_type": "code",
    "id": "ToJiOPZZOMMb"
   },
   "outputs": [],
   "source": [
    "reversedUserFriendRDD = userFriendRDD.map(lambda x: [x[1],x[0]])"
   ]
  },
  {
   "cell_type": "markdown",
   "metadata": {
    "colab_type": "text",
    "id": "eoWN7DS0j1jY"
   },
   "source": [
    "#Generate Jaccard similarity Score"
   ]
  },
  {
   "cell_type": "code",
   "execution_count": 9,
   "metadata": {
    "colab": {},
    "colab_type": "code",
    "id": "eh4n1QleCzZ1"
   },
   "outputs": [],
   "source": [
    "def unionList(list1,list2):\n",
    "  ''' doing to union of the given list\n",
    "  \n",
    "    ARGS\n",
    "    list1: list one on which we need to perform union action\n",
    "    list2: list two on which we need to perform union action\n",
    "\n",
    "    RETURN\n",
    "     the list after performing the union\n",
    "  '''\n",
    "  return list(set(list1)| set(list2))"
   ]
  },
  {
   "cell_type": "code",
   "execution_count": 10,
   "metadata": {
    "colab": {},
    "colab_type": "code",
    "id": "f4FnuLO_EXmh"
   },
   "outputs": [],
   "source": [
    "def intersctionList(list1,list2):\n",
    "  ''' doing to intersection of the given list\n",
    "\n",
    "  ARGS\n",
    "  list1: list one on which we need to perform intersction action\n",
    "  list2: list two on which we need to perform intersction action\n",
    "\n",
    "  RETURN\n",
    "    the list after performing the intersction\n",
    "  '''\n",
    "  return list(set(list1) & set(list2))"
   ]
  },
  {
   "cell_type": "code",
   "execution_count": 11,
   "metadata": {
    "colab": {},
    "colab_type": "code",
    "id": "pveTn76sErXC"
   },
   "outputs": [],
   "source": [
    "def getScore(list1,list2):\n",
    "  ''' calculating jaccard_similarity score of the given list\n",
    "  ARGS\n",
    "  list1: list on which we need to calcualte the score\n",
    "  list2: list on which we need to calcualte the score\n",
    "\n",
    "  RETURN \n",
    "  the Jaccard_similarity score of given list\n",
    "  '''\n",
    "\n",
    "  return round(len(intersctionList(list1,list2))/len(unionList(list1,list2)),5)\n"
   ]
  },
  {
   "cell_type": "markdown",
   "metadata": {
    "colab_type": "text",
    "id": "gtMmBvBjC5hX"
   },
   "source": [
    "#Dictionay\n",
    "converting userFriendRDD into matrix form and then into Dictionary "
   ]
  },
  {
   "cell_type": "code",
   "execution_count": 12,
   "metadata": {
    "colab": {},
    "colab_type": "code",
    "id": "-J6s6bdCZYIr"
   },
   "outputs": [],
   "source": [
    "def addUnknowNodes(node,dictionary):\n",
    "  ''' going to add value in the dictions if not present \n",
    "\n",
    "    ARGS\n",
    "    node: tuple of [node,neighbour]/[user,friend]\n",
    "    dictionary: the dictionary in which we are going to add tuple\n",
    "\n",
    "    RETURN\n",
    "    nothing\n",
    "  '''  \n",
    "  key,value =node\n",
    "\n",
    "  if key not in dictionary.keys():\n",
    "    dictionary[key] = value"
   ]
  },
  {
   "cell_type": "code",
   "execution_count": 13,
   "metadata": {
    "colab": {},
    "colab_type": "code",
    "id": "410uTwUtC4xN"
   },
   "outputs": [],
   "source": [
    "userFriendMatrixRDD_withList = userFriendRDD.groupByKey().map(lambda x : (x[0], list(x[1])))\n",
    "reversedUserFriendRDDMatrix = reversedUserFriendRDD.groupByKey().map(lambda x : [x[0], list(x[1])])"
   ]
  },
  {
   "cell_type": "code",
   "execution_count": 14,
   "metadata": {
    "colab": {},
    "colab_type": "code",
    "id": "dbNKjNe5CwV4"
   },
   "outputs": [],
   "source": [
    "userFriendDict = userFriendMatrixRDD_withList.collectAsMap()"
   ]
  },
  {
   "cell_type": "code",
   "execution_count": 15,
   "metadata": {
    "colab": {},
    "colab_type": "code",
    "id": "1s69wyETouqg"
   },
   "outputs": [],
   "source": [
    "reverse = reversedUserFriendRDDMatrix.collect()\n",
    "\n",
    "temp = userFriendRDD.filter(lambda x: x[1] not in userFriendDict.keys()).map(lambda x: [x[1],x[0]])\n",
    "userFriendRDD = userFriendRDD.union(temp)"
   ]
  },
  {
   "cell_type": "code",
   "execution_count": 16,
   "metadata": {
    "colab": {},
    "colab_type": "code",
    "id": "cBpljNzao8Qw"
   },
   "outputs": [],
   "source": [
    "# map(addUnknowNodes,reverse,dic)\n",
    "for val in reverse:\n",
    "  addUnknowNodes(val,userFriendDict)"
   ]
  },
  {
   "cell_type": "code",
   "execution_count": 17,
   "metadata": {
    "colab": {
     "base_uri": "https://localhost:8080/",
     "height": 34
    },
    "colab_type": "code",
    "id": "ZIxvq6WXPhRp",
    "outputId": "22513c1c-0246-456f-b0f8-8ee2155e3719"
   },
   "outputs": [
    {
     "data": {
      "text/plain": [
       "1632803"
      ]
     },
     "execution_count": 17,
     "metadata": {},
     "output_type": "execute_result"
    }
   ],
   "source": [
    "len(userFriendDict)"
   ]
  },
  {
   "cell_type": "code",
   "execution_count": 18,
   "metadata": {},
   "outputs": [],
   "source": [
    "del reversedUserFriendRDDMatrix, reverse,reversedUserFriendRDD,userFriendMatrixRDD_withList"
   ]
  },
  {
   "cell_type": "code",
   "execution_count": 19,
   "metadata": {
    "colab": {},
    "colab_type": "code",
    "id": "87YFCMqoEmaW"
   },
   "outputs": [],
   "source": [
    "def addRating(x):\n",
    "  ''' adding Jaccard_similarity score as 3rd column for each pair the come\n",
    "  \n",
    "      ARGS\n",
    "      x: tuple of [user,friend]/[node,neighbor] \n",
    "\n",
    "      RETURN \n",
    "      return a tuple of [user,friend,Jaccard_similarity_score] of the given node \n",
    "      and it's neighour\n",
    "\n",
    "  '''\n",
    "\n",
    "  list1= userFriendDict[x[0]]\n",
    "  try:\n",
    "    list2= userFriendDict[x[1]]\n",
    "  except:\n",
    "    list2 =[-1]\n",
    "  score = getScore(list1,list2)\n",
    "  return [x[0],x[1], score]"
   ]
  },
  {
   "cell_type": "markdown",
   "metadata": {
    "colab_type": "text",
    "id": "VJ4vOrbhTu_5"
   },
   "source": [
    "#Prediction model \n"
   ]
  },
  {
   "cell_type": "code",
   "execution_count": null,
   "metadata": {},
   "outputs": [],
   "source": [
    "import time\n",
    "start_time1 = time.time()"
   ]
  },
  {
   "cell_type": "code",
   "execution_count": 20,
   "metadata": {
    "colab": {},
    "colab_type": "code",
    "id": "FHllSA1gGF6m"
   },
   "outputs": [],
   "source": [
    "trainingRDD,testRDD =  userFriendRDD.randomSplit([0.8, 0.2])"
   ]
  },
  {
   "cell_type": "code",
   "execution_count": null,
   "metadata": {
    "colab": {},
    "colab_type": "code",
    "id": "FxRTzFy3GQ47"
   },
   "outputs": [],
   "source": [
    "# trainingRDD.count()"
   ]
  },
  {
   "cell_type": "code",
   "execution_count": null,
   "metadata": {},
   "outputs": [],
   "source": [
    "print(\"--- %s time for training seconds ---\" % (time.time() - start_time1))\n"
   ]
  },
  {
   "cell_type": "code",
   "execution_count": 21,
   "metadata": {},
   "outputs": [],
   "source": [
    "# userFriendRDD.take(100)\n",
    "dataGathered = []"
   ]
  },
  {
   "cell_type": "code",
   "execution_count": 23,
   "metadata": {
    "colab": {},
    "colab_type": "code",
    "id": "zld7jCKAG8zk"
   },
   "outputs": [
    {
     "name": "stdout",
     "output_type": "stream",
     "text": [
      "--- time for training 1132.469306230545  seconds ---\n"
     ]
    }
   ],
   "source": [
    "'''\n",
    "refrence for the model\n",
    "https://spark.apache.org/docs/latest/mllib-collaborative-filtering.html\n",
    "\n",
    "NOTE: there is more stuff in the link don't forget to look at it. \n",
    "'''\n",
    "from pyspark.mllib.recommendation import ALS, MatrixFactorizationModel, Rating\n",
    "\n",
    "import time\n",
    "\n",
    "start_time1 = time.time()\n",
    "rank = 10\n",
    "numIterations = 5\n",
    "\n",
    "\n",
    "model3 = ALS.train(trainingRDD.map(addRating), rank, numIterations)\n",
    "\n",
    "\n",
    "timeVal = float((time.time() - start_time1))\n",
    "print(\"--- time for training %s  seconds ---\" % (time.time() - start_time1))\n"
   ]
  },
  {
   "cell_type": "code",
   "execution_count": 27,
   "metadata": {},
   "outputs": [],
   "source": [
    "prediction3 = model3.predictAll(testRDD).map(lambda r: ((r[0], r[1]), r[2]))"
   ]
  },
  {
   "cell_type": "code",
   "execution_count": 28,
   "metadata": {
    "colab": {
     "base_uri": "https://localhost:8080/",
     "height": 34
    },
    "colab_type": "code",
    "id": "B58CrexZG7u2",
    "outputId": "d242f220-f9fd-4de8-9a3f-aba2be56fd70"
   },
   "outputs": [],
   "source": [
    "ratesAndPreds = testRDD.map(addRating).map(lambda r: ((r[0], r[1]), r[2])).join(prediction3)\n",
    "MSE = ratesAndPreds.map(lambda r: (r[1][0] - r[1][1])**2).mean()\n",
    "\n",
    "print(\"the mean square error is {} \".format(MSE))"
   ]
  },
  {
   "cell_type": "markdown",
   "metadata": {},
   "source": [
    "Build in library to make predictions "
   ]
  },
  {
   "cell_type": "code",
   "execution_count": 29,
   "metadata": {
    "colab": {},
    "colab_type": "code",
    "id": "SU9XJLA86SRE"
   },
   "outputs": [
    {
     "name": "stdout",
     "output_type": "stream",
     "text": [
      "--- 4.367865085601807 time for predicting products in seconds ---\n"
     ]
    }
   ],
   "source": [
    "rec = model3.recommendProductsForUsers(2)"
   ]
  }
 ],
 "metadata": {
  "colab": {
   "name": "Final Project v_3",
   "provenance": [],
   "toc_visible": true
  },
  "kernelspec": {
   "display_name": "Python 3",
   "language": "python",
   "name": "python3"
  },
  "language_info": {
   "codemirror_mode": {
    "name": "ipython",
    "version": 3
   },
   "file_extension": ".py",
   "mimetype": "text/x-python",
   "name": "python",
   "nbconvert_exporter": "python",
   "pygments_lexer": "ipython3",
   "version": "3.7.3"
  }
 },
 "nbformat": 4,
 "nbformat_minor": 1
}
