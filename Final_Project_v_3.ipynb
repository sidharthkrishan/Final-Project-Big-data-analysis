{
 "cells": [
  {
   "cell_type": "markdown",
   "metadata": {
    "colab_type": "text",
    "id": "h8IXFRrd3Y59"
   },
   "source": [
    "Get the data file from "
   ]
  },
  {
   "cell_type": "markdown",
   "metadata": {
    "colab_type": "text",
    "id": "P6-BuxFy83KC"
   },
   "source": [
    "Data is from http://socialnetworks.mpi-sws.mpg.de/data/facebook-links.txt.gz"
   ]
  },
  {
   "cell_type": "code",
   "execution_count": 0,
   "metadata": {
    "colab": {},
    "colab_type": "code",
    "id": "YTqTAEmr8zZz"
   },
   "outputs": [],
   "source": [
    "# !wget -q http://socialnetworks.mpi-sws.mpg.de/data/facebook-links.txt.gz\n",
    "# !gunzip  facebook-links.txt.gz"
   ]
  },
  {
   "cell_type": "markdown",
   "metadata": {
    "colab_type": "text",
    "id": "cRehFrF7AbP8"
   },
   "source": [
    "Setting up environment "
   ]
  },
  {
   "cell_type": "code",
   "execution_count": 2,
   "metadata": {
    "colab": {},
    "colab_type": "code",
    "id": "HJAvDAczn-Yh"
   },
   "outputs": [],
   "source": [
    "import findspark\n",
    "findspark.init()\n",
    "\n",
    "from pyspark import SparkContext\n",
    "sc = SparkContext.getOrCreate()"
   ]
  },
  {
   "cell_type": "markdown",
   "metadata": {
    "colab_type": "text",
    "id": "RSO-ULfkAVXT"
   },
   "source": [
    "#hide\n",
    "importing all the libraries which are needed"
   ]
  },
  {
   "cell_type": "code",
   "execution_count": 4,
   "metadata": {
    "colab": {},
    "colab_type": "code",
    "id": "cOQtCO3SAQgW"
   },
   "outputs": [],
   "source": [
    "from pyspark.ml.evaluation import RegressionEvaluator\n",
    "from pyspark.ml.recommendation import ALS, ALSModel\n",
    "from pyspark.sql import Row\n",
    "from pyspark.sql.types import *\n",
    "from pyspark.sql.session import SparkSession\n",
    "from pyspark.mllib.evaluation import RegressionMetrics, RankingMetrics\n",
    "from pyspark.ml.evaluation import RegressionEvaluator\n",
    "from pyspark.mllib.recommendation import Rating\n",
    "import pandas\n",
    "import pyspark.sql.dataframe"
   ]
  },
  {
   "cell_type": "markdown",
   "metadata": {
    "colab_type": "text",
    "id": "JNnausK7Amr4"
   },
   "source": [
    "Initialing pyspark and reading the raw data"
   ]
  },
  {
   "cell_type": "code",
   "execution_count": 19,
   "metadata": {
    "colab": {},
    "colab_type": "code",
    "id": "HcDPLNLAATCv"
   },
   "outputs": [],
   "source": [
    "spark = SparkSession(sc)\n",
    "rawData = sc.textFile('./facebook-links.txt',3)"
   ]
  },
  {
   "cell_type": "code",
   "execution_count": 20,
   "metadata": {
    "colab": {},
    "colab_type": "code",
    "id": "NBesNaxjAsVW"
   },
   "outputs": [],
   "source": [
    "\n",
    "def cleanFile(rawFile):\n",
    "  ''' we are changing the data into useful form\n",
    "\n",
    "      ARGS\n",
    "      rawFile:  the data which we need to parse into useful form\n",
    "\n",
    "      RETURNS\n",
    "      tuple of user and friend [user,friend] \n",
    "  '''\n",
    "  user,frnd,waste = rawFile[0].split('\\t')\n",
    "  return [int(user),int(frnd)]"
   ]
  },
  {
   "cell_type": "markdown",
   "metadata": {
    "colab_type": "text",
    "id": "Cwmk9LvPDEeq"
   },
   "source": [
    "Code Below\n",
    "*  calling cleanfile function on rawData to convert the rdd in useful form\n",
    "*  Also dispaly sample of the data\n",
    "\n",
    "\n"
   ]
  },
  {
   "cell_type": "code",
   "execution_count": 21,
   "metadata": {
    "colab": {
     "base_uri": "https://localhost:8080/",
     "height": 187
    },
    "colab_type": "code",
    "id": "qXC3UuTMCO8r",
    "outputId": "d0ebe8f4-045d-4469-c939-bc7b6b069191"
   },
   "outputs": [
    {
     "data": {
      "text/plain": [
       "[[1, 2],\n",
       " [1, 3],\n",
       " [1, 4],\n",
       " [1, 5],\n",
       " [1, 6],\n",
       " [1, 7],\n",
       " [1, 8],\n",
       " [1, 9],\n",
       " [1, 10],\n",
       " [1, 11]]"
      ]
     },
     "execution_count": 21,
     "metadata": {},
     "output_type": "execute_result"
    }
   ],
   "source": [
    "userFriendRDD  = rawData.map(lambda x: x.split(',')).map(cleanFile)\n",
    "userFriendRDD.take(10)"
   ]
  },
  {
   "cell_type": "markdown",
   "metadata": {
    "colab_type": "text",
    "id": "dpyHnO4fRsVn"
   },
   "source": [
    "making new RDD by swaping columns as the the original RDD has neighbor nodes (Friends) which are not in the main node field(user)"
   ]
  },
  {
   "cell_type": "code",
   "execution_count": 22,
   "metadata": {
    "colab": {},
    "colab_type": "code",
    "id": "ToJiOPZZOMMb"
   },
   "outputs": [],
   "source": [
    "reversedUserFriendRDD = userFriendRDD.map(lambda x: [x[1],x[0]])"
   ]
  },
  {
   "cell_type": "markdown",
   "metadata": {
    "colab_type": "text",
    "id": "eoWN7DS0j1jY"
   },
   "source": [
    "#Generate Jaccard similarity Score"
   ]
  },
  {
   "cell_type": "code",
   "execution_count": 23,
   "metadata": {
    "colab": {},
    "colab_type": "code",
    "id": "eh4n1QleCzZ1"
   },
   "outputs": [],
   "source": [
    "def unionList(list1,list2):\n",
    "  ''' doing to union of the given list\n",
    "  \n",
    "    ARGS\n",
    "    list1: list one on which we need to perform union action\n",
    "    list2: list two on which we need to perform union action\n",
    "\n",
    "    RETURN\n",
    "     the list after performing the union\n",
    "  '''\n",
    "  return list(set(list1)| set(list2))"
   ]
  },
  {
   "cell_type": "code",
   "execution_count": 24,
   "metadata": {
    "colab": {},
    "colab_type": "code",
    "id": "f4FnuLO_EXmh"
   },
   "outputs": [],
   "source": [
    "def intersctionList(list1,list2):\n",
    "  ''' doing to intersection of the given list\n",
    "\n",
    "  ARGS\n",
    "  list1: list one on which we need to perform intersction action\n",
    "  list2: list two on which we need to perform intersction action\n",
    "\n",
    "  RETURN\n",
    "    the list after performing the intersction\n",
    "  '''\n",
    "  return list(set(list1) & set(list2))"
   ]
  },
  {
   "cell_type": "code",
   "execution_count": 25,
   "metadata": {
    "colab": {},
    "colab_type": "code",
    "id": "pveTn76sErXC"
   },
   "outputs": [],
   "source": [
    "def getScore(list1,list2):\n",
    "  ''' calculating jaccard_similarity score of the given list\n",
    "  ARGS\n",
    "  list1: list on which we need to calcualte the score\n",
    "  list2: list on which we need to calcualte the score\n",
    "\n",
    "  RETURN \n",
    "  the Jaccard_similarity score of given list\n",
    "  '''\n",
    "\n",
    "  return round(len(intersctionList(list1,list2))/len(unionList(list1,list2)),5)\n"
   ]
  },
  {
   "cell_type": "markdown",
   "metadata": {
    "colab_type": "text",
    "id": "gtMmBvBjC5hX"
   },
   "source": [
    "#Dictionay\n",
    "converting userFriendRDD into matrix form and then into Dictionary "
   ]
  },
  {
   "cell_type": "code",
   "execution_count": 26,
   "metadata": {
    "colab": {},
    "colab_type": "code",
    "id": "-J6s6bdCZYIr"
   },
   "outputs": [],
   "source": [
    "def addUnknowNodes(node,dictionary):\n",
    "  ''' going to add value in the dictions if not present \n",
    "\n",
    "    ARGS\n",
    "    node: tuple of [node,neighbour]/[user,friend]\n",
    "    dictionary: the dictionary in which we are going to add tuple\n",
    "\n",
    "    RETURN\n",
    "    nothing\n",
    "  '''  \n",
    "  key,value =node\n",
    "\n",
    "  if key not in dictionary.keys():\n",
    "    dictionary[key] = value"
   ]
  },
  {
   "cell_type": "markdown",
   "metadata": {
    "colab_type": "text",
    "id": "kPs0EALPBB6k"
   },
   "source": [
    "Converting the rdd to into a martrix form "
   ]
  },
  {
   "cell_type": "code",
   "execution_count": 27,
   "metadata": {
    "colab": {},
    "colab_type": "code",
    "id": "410uTwUtC4xN"
   },
   "outputs": [],
   "source": [
    "userFriendMatrixRDD_withList = userFriendRDD.groupByKey().map(lambda x : (x[0], list(x[1])))\n",
    "reversedUserFriendRDDMatrix = reversedUserFriendRDD.groupByKey().map(lambda x : [x[0], list(x[1])])"
   ]
  },
  {
   "cell_type": "markdown",
   "metadata": {
    "colab_type": "text",
    "id": "7_wdP2YJBLh4"
   },
   "source": [
    "Converting the above rdd's into dictionary"
   ]
  },
  {
   "cell_type": "code",
   "execution_count": 28,
   "metadata": {
    "colab": {},
    "colab_type": "code",
    "id": "dbNKjNe5CwV4"
   },
   "outputs": [],
   "source": [
    "userFriendDict = userFriendMatrixRDD_withList.collectAsMap()\n",
    "reverse = reversedUserFriendRDDMatrix.collect()"
   ]
  },
  {
   "cell_type": "code",
   "execution_count": 29,
   "metadata": {
    "colab": {},
    "colab_type": "code",
    "id": "1s69wyETouqg"
   },
   "outputs": [],
   "source": [
    "temp = userFriendRDD.filter(lambda x: x[1] not in userFriendDict.keys()).map(lambda x: [x[1],x[0]])\n",
    "userFriendRDD = userFriendRDD.union(temp)"
   ]
  },
  {
   "cell_type": "markdown",
   "metadata": {
    "colab_type": "text",
    "id": "MTAMV3LcjbZC"
   },
   "source": [
    "Deleting refrence to free up memory"
   ]
  },
  {
   "cell_type": "code",
   "execution_count": 30,
   "metadata": {
    "colab": {},
    "colab_type": "code",
    "id": "xuwAdwB_jQmV"
   },
   "outputs": [],
   "source": [
    "del userFriendMatrixRDD_withList, reversedUserFriendRDDMatrix,temp"
   ]
  },
  {
   "cell_type": "code",
   "execution_count": 31,
   "metadata": {
    "colab": {},
    "colab_type": "code",
    "id": "cBpljNzao8Qw"
   },
   "outputs": [],
   "source": [
    "for val in reverse:\n",
    "  addUnknowNodes(val,userFriendDict)"
   ]
  },
  {
   "cell_type": "code",
   "execution_count": 32,
   "metadata": {
    "colab": {
     "base_uri": "https://localhost:8080/",
     "height": 34
    },
    "colab_type": "code",
    "id": "ZIxvq6WXPhRp",
    "outputId": "cd0f6d92-e4f5-4e09-a08b-cda29dc3f31d"
   },
   "outputs": [
    {
     "data": {
      "text/plain": [
       "63731"
      ]
     },
     "execution_count": 32,
     "metadata": {},
     "output_type": "execute_result"
    }
   ],
   "source": [
    "len(userFriendDict)"
   ]
  },
  {
   "cell_type": "code",
   "execution_count": 33,
   "metadata": {
    "colab": {},
    "colab_type": "code",
    "id": "87YFCMqoEmaW"
   },
   "outputs": [],
   "source": [
    "def addRating(x):\n",
    "  ''' adding Jaccard_similarity score as 3rd column for each pair the come\n",
    "  \n",
    "      ARGS\n",
    "      x: tuple of [user,friend]/[node,neighbor] \n",
    "\n",
    "      RETURN \n",
    "      return a tuple of [user,friend,Jaccard_similarity_score] of the given node \n",
    "      and it's neighour\n",
    "\n",
    "  '''\n",
    "\n",
    "  list1= userFriendDict[x[0]]\n",
    "  try:\n",
    "    list2= userFriendDict[x[1]]\n",
    "  except:\n",
    "    list2 =[-1]\n",
    "  score = getScore(list1,list2)\n",
    "  return [x[0],x[1], score]"
   ]
  },
  {
   "cell_type": "markdown",
   "metadata": {
    "colab_type": "text",
    "id": "VJ4vOrbhTu_5"
   },
   "source": [
    "#Prediction model \n"
   ]
  },
  {
   "cell_type": "markdown",
   "metadata": {
    "colab_type": "text",
    "id": "n99jQhGKBbyS"
   },
   "source": [
    "Randomly Partitioning the RDD to have trainingRDD and testRDD"
   ]
  },
  {
   "cell_type": "code",
   "execution_count": 34,
   "metadata": {
    "colab": {},
    "colab_type": "code",
    "id": "FHllSA1gGF6m"
   },
   "outputs": [],
   "source": [
    "trainingRDD,testRDD =  userFriendRDD.randomSplit([0.8, 0.2])"
   ]
  },
  {
   "cell_type": "markdown",
   "metadata": {
    "colab_type": "text",
    "id": "rXx-HwyUBuwC"
   },
   "source": [
    "Traing the model witht he training RDD\n",
    "We are using pyspark.mllib library "
   ]
  },
  {
   "cell_type": "markdown",
   "metadata": {
    "colab_type": "text",
    "id": "c3gaFiDEVC-l"
   },
   "source": [
    "refrence for the model\n",
    "https://spark.apache.org/docs/latest/mllib-collaborative-filtering.html\n"
   ]
  },
  {
   "cell_type": "code",
   "execution_count": 35,
   "metadata": {
    "colab": {},
    "colab_type": "code",
    "id": "zld7jCKAG8zk"
   },
   "outputs": [],
   "source": [
    "from pyspark.mllib.recommendation import ALS, MatrixFactorizationModel, Rating\n",
    "import time\n",
    "\n",
    "def trainModel(rank,numIterations,trainingRDD):\n",
    "  ''' We are training the model here\n",
    "\n",
    "  ARGS \n",
    "  rank: Number of features to use (also referred to as the number of latent factors)\n",
    "\n",
    "  numIterations:  Number of iterations of ALS.\n",
    "\n",
    "  trainingRDD: the RDD using which we are going to train our model. should be in the form of [user,friend]/[node/neighbor]\n",
    "  \n",
    "  Return:  [trained model, time took to train the model]\n",
    "  '''\n",
    "  import time\n",
    "\n",
    "  start_time1 = time.time()\n",
    "  rank = rank\n",
    "  numIterations = numIterations\n",
    "\n",
    "  model = ALS.train(trainingRDD.map(addRating), rank, numIterations)\n",
    "  print(\"--- CPU time for training %s  seconds ---\" % (time.time() - start_time1))\n",
    "  return [model,float(time.time() - start_time1)]\n"
   ]
  },
  {
   "cell_type": "markdown",
   "metadata": {
    "colab_type": "text",
    "id": "3qpnqiQICQXX"
   },
   "source": [
    "We are using in build library function to predict the result for testRDD "
   ]
  },
  {
   "cell_type": "code",
   "execution_count": 36,
   "metadata": {
    "colab": {},
    "colab_type": "code",
    "id": "SU9XJLA86SRE"
   },
   "outputs": [],
   "source": [
    "def makePrediction(model,testRDD):\n",
    "  ''' We are making the predictions here for the test data\n",
    "\n",
    "    ARGS\n",
    "    model: the trained model using which we are going to make the rredictions\n",
    "    testRDD: the testRDD/ test data\n",
    "\n",
    "    Return: the predictions RDD\n",
    "  '''\n",
    "\n",
    "  prediction = model.predictAll(testRDD).map(lambda r: ((r[0], r[1]), r[2]))\n",
    "  return prediction\n",
    "  # print(\"--- CPU time for predicting %s  seconds ---\" % (time.time() - start_time2))\n",
    "  # print(\"--- CPU time for overall process %s  seconds ---\" % (time.time() - start_time1))"
   ]
  },
  {
   "cell_type": "markdown",
   "metadata": {
    "colab_type": "text",
    "id": "r2fo15s4CoMF"
   },
   "source": [
    "Checking the mean square error of the predicted result"
   ]
  },
  {
   "cell_type": "code",
   "execution_count": 37,
   "metadata": {
    "colab": {},
    "colab_type": "code",
    "id": "B58CrexZG7u2"
   },
   "outputs": [],
   "source": [
    "def getMeanSqError(testRDD,prediction):\n",
    "  ''' Calculating the mean square error here\n",
    "\n",
    "      ARGS\n",
    "      testRDD: the testRDD using which we made predictions\n",
    "      prediction: the predictions made by the model using testRDD\n",
    "\n",
    "      return MSE\n",
    "  '''\n",
    "  ratesAndPreds = testRDD.map(addRating).map(lambda r: ((r[0], r[1]), r[2])).join(prediction)\n",
    "  MSE = ratesAndPreds.map(lambda r: (r[1][0] - r[1][1])**2).mean()\n",
    "  return MSE\n",
    "  print(\"Mean Squared Error = \" + str(MSE))\n",
    "dataGathered = []\n"
   ]
  },
  {
   "cell_type": "code",
   "execution_count": null,
   "metadata": {
    "colab": {},
    "colab_type": "code",
    "id": "jrC4ewp4P9U0"
   },
   "outputs": [],
   "source": [
    "rank = 10\n",
    "numIterations =10\n",
    "\n",
    "model,time  = trainModel(rank,numIterations,trainingRDD)\n",
    "prediction = makePrediction(model,testRDD)\n",
    "mse = getMeanSqError(testRDD,prediction)\n",
    "dataGathered.append([numIterations,mse,time])"
   ]
  },
  {
   "cell_type": "code",
   "execution_count": null,
   "metadata": {
    "colab": {},
    "colab_type": "code",
    "id": "HjW0HbtYP9Dk"
   },
   "outputs": [],
   "source": [
    "del time,mse,prediction"
   ]
  },
  {
   "cell_type": "code",
   "execution_count": 0,
   "metadata": {
    "colab": {
     "base_uri": "https://localhost:8080/",
     "height": 198
    },
    "colab_type": "code",
    "collapsed": true,
    "id": "9sQ8a8Gj8D3u",
    "outputId": "363f3647-714c-4c71-a454-9d28bd7467ec"
   },
   "outputs": [
    {
     "ename": "NameError",
     "evalue": "ignored",
     "output_type": "error",
     "traceback": [
      "\u001b[0;31m---------------------------------------------------------------------------\u001b[0m",
      "\u001b[0;31mNameError\u001b[0m                                 Traceback (most recent call last)",
      "\u001b[0;32m<ipython-input-28-748237a1dce4>\u001b[0m in \u001b[0;36m<module>\u001b[0;34m()\u001b[0m\n\u001b[0;32m----> 1\u001b[0;31m \u001b[0mstart_time1\u001b[0m \u001b[0;34m=\u001b[0m \u001b[0mtime\u001b[0m\u001b[0;34m.\u001b[0m\u001b[0mtime\u001b[0m\u001b[0;34m(\u001b[0m\u001b[0;34m)\u001b[0m\u001b[0;34m\u001b[0m\u001b[0;34m\u001b[0m\u001b[0m\n\u001b[0m\u001b[1;32m      2\u001b[0m \u001b[0mrec\u001b[0m \u001b[0;34m=\u001b[0m \u001b[0mmodel\u001b[0m\u001b[0;34m.\u001b[0m\u001b[0mrecommendProductsForUsers\u001b[0m\u001b[0;34m(\u001b[0m\u001b[0;36m2\u001b[0m\u001b[0;34m)\u001b[0m\u001b[0;34m\u001b[0m\u001b[0;34m\u001b[0m\u001b[0m\n\u001b[1;32m      3\u001b[0m \u001b[0mprint\u001b[0m\u001b[0;34m(\u001b[0m\u001b[0;34m\"--- timre for recommendProductsForUsers %s  seconds ---\"\u001b[0m \u001b[0;34m%\u001b[0m \u001b[0;34m(\u001b[0m\u001b[0mtime\u001b[0m\u001b[0;34m.\u001b[0m\u001b[0mtime\u001b[0m\u001b[0;34m(\u001b[0m\u001b[0;34m)\u001b[0m \u001b[0;34m-\u001b[0m \u001b[0mstart_time1\u001b[0m\u001b[0;34m)\u001b[0m\u001b[0;34m)\u001b[0m\u001b[0;34m\u001b[0m\u001b[0;34m\u001b[0m\u001b[0m\n",
      "\u001b[0;31mNameError\u001b[0m: name 'time' is not defined"
     ]
    }
   ],
   "source": [
    "rec = model.recommendProductsForUsers(2)"
   ]
  }
 ],
 "metadata": {
  "colab": {
   "name": "Final Project v_3",
   "provenance": [],
   "toc_visible": true
  },
  "kernelspec": {
   "display_name": "Python 3",
   "language": "python",
   "name": "python3"
  },
  "language_info": {
   "codemirror_mode": {
    "name": "ipython",
    "version": 3
   },
   "file_extension": ".py",
   "mimetype": "text/x-python",
   "name": "python",
   "nbconvert_exporter": "python",
   "pygments_lexer": "ipython3",
   "version": "3.7.3"
  }
 },
 "nbformat": 4,
 "nbformat_minor": 1
}
